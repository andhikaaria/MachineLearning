{
  "nbformat": 4,
  "nbformat_minor": 0,
  "metadata": {
    "colab": {
      "provenance": [],
      "authorship_tag": "ABX9TyPMW1kaZxsw3AJDyW1JyX9I",
      "include_colab_link": true
    },
    "kernelspec": {
      "name": "python3",
      "display_name": "Python 3"
    },
    "language_info": {
      "name": "python"
    }
  },
  "cells": [
    {
      "cell_type": "markdown",
      "metadata": {
        "id": "view-in-github",
        "colab_type": "text"
      },
      "source": [
        "<a href=\"https://colab.research.google.com/github/andhikaaria/MachineLearning/blob/main/mgg5/Dimensionality_Reduction_Iris.ipynb\" target=\"_parent\"><img src=\"https://colab.research.google.com/assets/colab-badge.svg\" alt=\"Open In Colab\"/></a>"
      ]
    },
    {
      "cell_type": "markdown",
      "source": [
        "# Training Iris Classification using decision tree whitout dimensional reduction"
      ],
      "metadata": {
        "id": "8NuTemy2PZa7"
      }
    },
    {
      "cell_type": "code",
      "execution_count": null,
      "metadata": {
        "id": "cQA1rUgfL8DI"
      },
      "outputs": [],
      "source": [
        "from sklearn import datasets  # Mengimpor modul datasets dari sklearn, yang berisi dataset iris yang akan digunakan.\n",
        "from sklearn.model_selection import train_test_split  # Mengimpor modul train_test_split dari sklearn.model_selection, yang akan digunakan untuk membagi dataset menjadi data pelatihan dan pengujian.\n",
        "\n",
        "iris = datasets.load_iris()  # Memuat dataset iris ke dalam variabel \"iris\"."
      ]
    },
    {
      "cell_type": "code",
      "source": [
        "atribut = iris.data  # Memuat atribut (fitur) dari dataset iris ke dalam variabel \"atribut\".\n",
        "label = iris.target  # Memuat label (target) dari dataset iris ke dalam variabel \"label\"."
      ],
      "metadata": {
        "id": "Tamykvz3MqZq"
      },
      "execution_count": null,
      "outputs": []
    },
    {
      "cell_type": "code",
      "source": [
        "jumlah_baris = len(atribut)  # Menghitung jumlah baris dalam dataset atribut iris.\n",
        "print(jumlah_baris)"
      ],
      "metadata": {
        "colab": {
          "base_uri": "https://localhost:8080/"
        },
        "id": "4ou8EDndNDWS",
        "outputId": "4c472e5f-4252-4dc8-b7f1-cd1b60072292"
      },
      "execution_count": null,
      "outputs": [
        {
          "output_type": "stream",
          "name": "stdout",
          "text": [
            "150\n"
          ]
        }
      ]
    },
    {
      "cell_type": "code",
      "source": [
        "# Memecah dataset atribut dan label menjadi data pelatihan (X_train, y_train) dan data pengujian (X_test, y_test).\n",
        "X_train, X_test, y_train, y_test = train_test_split(atribut, label, random_state=42, test_size=0.2)"
      ],
      "metadata": {
        "id": "ZLyREAZtNdHU"
      },
      "execution_count": null,
      "outputs": []
    },
    {
      "cell_type": "code",
      "source": [
        "# Mengimpor modul DecisionTreeClassifier dari sklearn.tree\n",
        "from sklearn import tree\n",
        "\n",
        "# Membuat objek DecisionTreeClassifier sebagai model pohon keputusan.\n",
        "decision_tree = tree.DecisionTreeClassifier()\n",
        "\n",
        "# Melatih model pohon keputusan menggunakan data pelatihan (X_train dan y_train).\n",
        "model_tanpa_dimensionality_reduction = decision_tree.fit(X_train, y_train)\n",
        "\n",
        "# Mengukur akurasi model dengan data pengujian (X_test dan y_test) dan mencetak skor akurasi.\n",
        "skor_akurasi = model_tanpa_dimensionality_reduction.score(X_test, y_test)"
      ],
      "metadata": {
        "id": "GWEz5vi5Nv9P"
      },
      "execution_count": null,
      "outputs": []
    },
    {
      "cell_type": "markdown",
      "source": [
        "# With Dimensional reduction"
      ],
      "metadata": {
        "id": "9Vd3aMCQPi5y"
      }
    },
    {
      "cell_type": "code",
      "source": [
        "# Mengimpor modul PCA dari sklearn.decomposition\n",
        "from sklearn.decomposition import PCA\n",
        "\n",
        "# Membuat objek PCA dengan 4 komponen utama.\n",
        "pca = PCA(n_components=4)\n",
        "\n",
        "# Menggunakan PCA untuk mengubah dataset atribut X_train menjadi dataset dengan 4 komponen utama.\n",
        "pca_attributes = pca.fit_transform(X_train)\n",
        "\n",
        "# Menghitung rasio varians yang dijelaskan oleh setiap komponen utama.\n",
        "explained_variance_ratio = pca.explained_variance_ratio_"
      ],
      "metadata": {
        "id": "DyLF8cv4OQtg"
      },
      "execution_count": null,
      "outputs": []
    },
    {
      "cell_type": "code",
      "source": [
        "# Membuat objek PCA dengan 2 komponen utama.\n",
        "pca = PCA(n_components=2)\n",
        "\n",
        "# Menggunakan PCA untuk mengubah dataset pelatihan X_train menjadi dataset dengan 2 komponen utama.\n",
        "X_train_pca = pca.fit_transform(X_train)\n",
        "\n",
        "# Menggunakan PCA untuk mengubah dataset pengujian X_test menjadi dataset dengan 2 komponen utama.\n",
        "X_test_pca = pca.transform(X_test)"
      ],
      "metadata": {
        "id": "fM5olmwrPsty"
      },
      "execution_count": null,
      "outputs": []
    },
    {
      "cell_type": "code",
      "source": [
        "# Melatih model pohon keputusan dengan menggunakan dataset pelatihan yang telah direduksi dimensinya menggunakan PCA.\n",
        "model_dengan_PCA_2_components = decision_tree.fit(X_train_pca, y_train)\n",
        "\n",
        "# Mengukur akurasi model dengan data pengujian yang juga telah direduksi dimensinya menggunakan PCA.\n",
        "model_dengan_PCA_2_components.score(X_test_pca, y_test)\n"
      ],
      "metadata": {
        "colab": {
          "base_uri": "https://localhost:8080/"
        },
        "id": "_fR6qcNKQpKJ",
        "outputId": "e6c2893f-6f85-4767-d7fd-23688d035126"
      },
      "execution_count": null,
      "outputs": [
        {
          "output_type": "execute_result",
          "data": {
            "text/plain": [
              "0.9666666666666667"
            ]
          },
          "metadata": {},
          "execution_count": 19
        }
      ]
    },
    {
      "cell_type": "code",
      "source": [],
      "metadata": {
        "id": "IBxAwFFjRHp1"
      },
      "execution_count": null,
      "outputs": []
    }
  ]
}